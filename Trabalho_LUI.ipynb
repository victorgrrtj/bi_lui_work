{
  "nbformat": 4,
  "nbformat_minor": 0,
  "metadata": {
    "colab": {
      "name": "Trabalho LUI.ipynb",
      "provenance": [],
      "collapsed_sections": [
        "55fqYjJjrasB",
        "czNC1xSDreNB"
      ],
      "authorship_tag": "ABX9TyOIJNgpVyny1weXpjd2ajgY",
      "include_colab_link": true
    },
    "kernelspec": {
      "display_name": "Python 3",
      "name": "python3"
    },
    "language_info": {
      "name": "python"
    }
  },
  "cells": [
    {
      "cell_type": "markdown",
      "metadata": {
        "id": "view-in-github",
        "colab_type": "text"
      },
      "source": [
        "<a href=\"https://colab.research.google.com/github/victorgrrtj/lui_work/blob/main/Trabalho_LUI.ipynb\" target=\"_parent\"><img src=\"https://colab.research.google.com/assets/colab-badge.svg\" alt=\"Open In Colab\"/></a>"
      ]
    },
    {
      "cell_type": "markdown",
      "metadata": {
        "id": "5T9_JTLXrKYN"
      },
      "source": [
        "# Trabalho LUI"
      ]
    },
    {
      "cell_type": "markdown",
      "metadata": {
        "id": "55fqYjJjrasB"
      },
      "source": [
        "## Importação de Bibliotecas"
      ]
    },
    {
      "cell_type": "code",
      "metadata": {
        "id": "9aWsgUxLRRwk"
      },
      "source": [
        "# Importação das bibliotecas\n",
        "import requests\n",
        "from bs4 import BeautifulSoup\n",
        "import json\n",
        "import pandas as pd\n",
        "import re\n",
        "from IPython.display import HTML\n",
        "import math\n",
        "import time\n",
        "import random\n",
        "import datetime\n",
        "headers = {\"User-Agent\": \"Mozilla/5.0 (Macintosh; Intel Mac OS X 10.14; rv:66.0) Gecko/20100101 Firefox/66.0\", \"Accept\": \"text/html,application/xhtml+xml,application/xml;q=0.9,*/*;q=0.8\", \"Accept-Language\": \"en-US,en;q=0.5\", \"Accept-Encoding\": \"gzip, deflate\", \"DNT\": \"1\", \"Connection\": \"close\", \"Upgrade-Insecure-Requests\": \"1\"}"
      ],
      "execution_count": null,
      "outputs": []
    },
    {
      "cell_type": "markdown",
      "metadata": {
        "id": "czNC1xSDreNB"
      },
      "source": [
        "## Detecção e Extração de Dados"
      ]
    },
    {
      "cell_type": "code",
      "metadata": {
        "id": "kmf5XTNVRZyL"
      },
      "source": [
        "#Criação de Request para extração do código HTML\n",
        "response = requests.get('https://www.dfimoveis.com.br/aluguel/df/todos/imoveis')\n",
        "soup = BeautifulSoup(response.text, 'html.parser')"
      ],
      "execution_count": null,
      "outputs": []
    },
    {
      "cell_type": "code",
      "metadata": {
        "id": "GnCzZlDR7E7i"
      },
      "source": [
        "#Extração de Quantidade de Imóveis em todas as páginas\n",
        "qtd_imoveis = soup.find('h1')\n",
        "qtd_imoveis = int(qtd_imoveis.text.strip().split(' ')[0].replace('.', ''))"
      ],
      "execution_count": null,
      "outputs": []
    },
    {
      "cell_type": "code",
      "metadata": {
        "id": "u6UthuWwR1kB"
      },
      "source": [
        "#Painel de Informações a serem extraídas\n",
        "painel = soup.find('div', attrs={'class': 'result-search__content'})"
      ],
      "execution_count": null,
      "outputs": []
    },
    {
      "cell_type": "code",
      "metadata": {
        "id": "g4gn1zmCR5Ye"
      },
      "source": [
        "#Extração do item que contém os dados de cada imóvel a serem inseridos no dataframe\n",
        "imoveis = painel.find_all('li', attrs={'class': 'property-list__item'})"
      ],
      "execution_count": null,
      "outputs": []
    },
    {
      "cell_type": "code",
      "metadata": {
        "id": "psOtGVSs8buB"
      },
      "source": [
        "# Imprime a quantidade de imóveis em 1 página\n",
        "print(len(imoveis))"
      ],
      "execution_count": null,
      "outputs": []
    },
    {
      "cell_type": "code",
      "metadata": {
        "id": "dlW6TszW8tHJ"
      },
      "source": [
        "# Quantidade de páginas para todos imóveis cadastrados\n",
        "n_pag = qtd_imoveis / len(imoveis)\n",
        "n_pag = int(math.ceil(n_pag))\n",
        "print(\"São necessárias {} páginas para conter {} imóveis.\".format(n_pag, qtd_imoveis))"
      ],
      "execution_count": null,
      "outputs": []
    },
    {
      "cell_type": "code",
      "metadata": {
        "id": "YFiVYIo7aY6y"
      },
      "source": [
        "# Lista de URL's a serem submetidas ao Web Scrapping\n",
        "url_list = []\n",
        "for i in range(1, n_pag + 1):\n",
        "    url_list.append('https://www.dfimoveis.com.br/aluguel/df/todos/imoveis?pagina='+str(i))\n",
        "print(url_list)"
      ],
      "execution_count": null,
      "outputs": []
    },
    {
      "cell_type": "code",
      "metadata": {
        "id": "oxRkw10CSqiG"
      },
      "source": [
        "#Extrai link da página do imóvel\n",
        "extracted_data = []\n",
        "for imovel in imoveis:\n",
        "  result = {}\n",
        "  hyperlink_format = '<a href=\"{link}\">{text}</a>'\n",
        "  link = \"https://www.dfimoveis.com.br\"+imovel.find('a', attrs={'class': 'gtm-imovel texto-uma-linha'}).get('href')\n",
        "  link = hyperlink_format.format(link = link, text=\"LINK\")\n",
        "  result['link'] = link\n",
        "  extracted_data.append(result)"
      ],
      "execution_count": null,
      "outputs": []
    },
    {
      "cell_type": "code",
      "metadata": {
        "id": "My5FmplCKJU-"
      },
      "source": [
        "#Extrai título do imóvel\n",
        "extracted_data = []\n",
        "for imovel in imoveis:\n",
        "  result = {}\n",
        "  result['titulo'] = imovel.find('a', attrs={'class': 'gtm-imovel texto-uma-linha'}).text.strip()\n",
        "  extracted_data.append(result)"
      ],
      "execution_count": null,
      "outputs": []
    },
    {
      "cell_type": "code",
      "metadata": {
        "id": "oQ4ZHF1vKJcn"
      },
      "source": [
        "#Extrai preço mensal de aluguel ou total de venda\n",
        "extracted_data = []\n",
        "for imovel in imoveis:\n",
        "  result = {}\n",
        "  precos = imovel.find('h4', attrs={'class': 'property__subtitle hide-mobile'})\n",
        "  result['preco_mensal'] = int(re.findall('[0-9]+', precos.find_all('span', attrs={'class': 'price'})[0].text.replace('.', ''))[0])\n",
        "  extracted_data.append(result)"
      ],
      "execution_count": null,
      "outputs": []
    },
    {
      "cell_type": "code",
      "metadata": {
        "id": "lpAyIAZcQBqC"
      },
      "source": [
        "#Extrai preço por m2\n",
        "extracted_data = []\n",
        "for imovel in imoveis:\n",
        "  result = {}\n",
        "  precos = imovel.find('h4', attrs={'class': 'property__subtitle hide-mobile'})\n",
        "  try:\n",
        "    result['preco_m2'] = int(re.findall('[0-9]+', precos.find_all('span', attrs={'class': 'price'})[1].text.replace('.', ''))[0])\n",
        "  except IndexError as error:\n",
        "    result['preco_m2'] = None\n",
        "  extracted_data.append(result)"
      ],
      "execution_count": null,
      "outputs": []
    },
    {
      "cell_type": "code",
      "metadata": {
        "id": "akG36H6ge-7a"
      },
      "source": [
        "#Extrai objetivo (aluguel, venda, etc), tipo de imovel (casa, apto, sala), quantos m2 e tipo/qtde de cômodos\n",
        "extracted_data = []\n",
        "for imovel in imoveis:\n",
        "  result = {}\n",
        "  caracts = imovel.find_all('ul', attrs={'class': 'property__options'})\n",
        "  caracts = caracts[1].find_all('li')\n",
        "  caract_1 = caracts[0].text.split(' ')\n",
        "  result['obj'] = caract_1[0]\n",
        "  result['tipo'] = caract_1[1]\n",
        "  result['m2'] = int(re.findall('[0-9]+', caracts[0].text)[0])\n",
        "  if len(caracts) > 1:\n",
        "    for caract in caracts[1:]:\n",
        "      split = caract.text.split(' ')\n",
        "      qtd = int(split[0])\n",
        "      comodo = split[1].lower()\n",
        "      if comodo in ['quarto', 'suíte', 'vaga']:\n",
        "        comodo = comodo+'s'\n",
        "      result[comodo] = qtd\n",
        "  extracted_data.append(result)"
      ],
      "execution_count": null,
      "outputs": []
    },
    {
      "cell_type": "code",
      "metadata": {
        "id": "1j3oexaSSHpz"
      },
      "source": [
        "# Extrai conteúdo (descrição do imóvel)\n",
        "extracted_data = []\n",
        "for imovel in imoveis:\n",
        "  result = {}\n",
        "  result['descricao'] = imovel.find('meta', attrs={'itemprop': 'description'}).get('content').replace('\\r', '').replace('\\n', '')\n",
        "  extracted_data.append(result)"
      ],
      "execution_count": null,
      "outputs": []
    },
    {
      "cell_type": "markdown",
      "metadata": {
        "id": "rQU3oTeEtZxC"
      },
      "source": [
        "## Sumarização de todas as extrações."
      ]
    },
    {
      "cell_type": "code",
      "metadata": {
        "id": "v8PdWveGW6XS"
      },
      "source": [
        "\"\"\" Contém looping para todas as páginas.\n",
        "Retorna um dicionário com as informações de cada imóvel.\n",
        "Devido à quantidade de páginas, este processo pode demorar mais de 30 minutos.\"\"\"\n",
        "\n",
        "extracted_data = []\n",
        "response = requests.get('https://www.dfimoveis.com.br/aluguel/df/todos/imoveis')\n",
        "soup = BeautifulSoup(response.text, 'html.parser')\n",
        "qtd_imoveis = soup.find('h1', attrs={'itemprop': 'name'})\n",
        "qtd_imoveis = int(qtd_imoveis.text.strip().split(' ')[0].replace('.', ''))\n",
        "painel = soup.find('div', attrs={'class': 'result-search__content'})\n",
        "imoveis = painel.find_all('li', attrs={'class': 'property-list__item'})\n",
        "\n",
        "n_pag = math.ceil(qtd_imoveis / len(imoveis))\n",
        "print(\"São necessárias {} páginas para conter {} imóveis.\".format(n_pag, qtd_imoveis))\n",
        "\n",
        "url_list = []\n",
        "for i in range(1, n_pag + 1):\n",
        "  url_list.append('https://www.dfimoveis.com.br/aluguel/df/todos/imoveis?pagina='+str(i))\n",
        "\n",
        "for index, url in enumerate(url_list):\n",
        "  response = requests.get(url, headers=headers)\n",
        "  print(\"Codigo de resposta da pagina: \", response.status_code)\n",
        "  soup = BeautifulSoup(response.text, 'html.parser')\n",
        "  painel = soup.find('div', attrs={'class': 'result-search__content'})\n",
        "  imoveis = painel.find_all('li', attrs={'class': 'property-list__item'})\n",
        "  time.sleep(random.randint(2,6))\n",
        "\n",
        "  for imovel in imoveis:\n",
        "    result = {}\n",
        "\n",
        "    hyperlink_format = '<a href=\"{link}\">{text}</a>'\n",
        "    link = \"https://www.dfimoveis.com.br\"+imovel.find('a', attrs={'class': 'gtm-imovel texto-uma-linha'}).get('href')\n",
        "    link = hyperlink_format.format(link = link, text=\"LINK\")\n",
        "    try:\n",
        "      result['link'] = link\n",
        "    except:\n",
        "      result['link'] = None\n",
        "\n",
        "    try:\n",
        "      result['titulo'] = imovel.find('a', attrs={'class': 'gtm-imovel texto-uma-linha'}).text.strip()\n",
        "    except:\n",
        "      result['titulo'] = None\n",
        "\n",
        "    precos = imovel.find('h4', attrs={'class': 'property__subtitle hide-mobile'})\n",
        "    try:\n",
        "      result['preco_mensal'] = int(re.findall('[0-9]+', precos.find_all('span', attrs={'class': 'price'})[0].text.replace('.', ''))[0])\n",
        "    except:\n",
        "      result['preco_mensal'] = None\n",
        "\n",
        "    try:\n",
        "      result['preco_m2'] = int(re.findall('[0-9]+', precos.find_all('span', attrs={'class': 'price'})[1].text.replace('.', ''))[0])\n",
        "    except IndexError as error:\n",
        "      result['preco_m2'] = None\n",
        "\n",
        "    caracts = imovel.find_all('ul', attrs={'class': 'property__options'})\n",
        "    caracts = caracts[1].find_all('li')\n",
        "    caract_1 = caracts[0].text.split(' ')\n",
        "    try:\n",
        "      result['obj'] = caract_1[0]\n",
        "    except:\n",
        "      result['obj'] = None\n",
        "    try:\n",
        "      result['tipo'] = caract_1[1]\n",
        "    except:\n",
        "      result['tipo'] = None\n",
        "    try:\n",
        "      result['m2'] = int(re.findall('[0-9]+', caracts[0].text)[0])\n",
        "    except IndexError as error:\n",
        "      result['m2'] = None\n",
        "    if len(caracts) > 1:\n",
        "      for caract in caracts[1:]:\n",
        "        split = caract.text.split(' ')\n",
        "        qtd = int(split[0])\n",
        "        comodo = split[1].lower()\n",
        "        if comodo in ['quarto', 'suíte', 'vaga']:\n",
        "          comodo = comodo+'s'\n",
        "        result[comodo] = qtd\n",
        "    result['descricao'] = imovel.find('meta', attrs={'itemprop': 'description'}).get('content').replace('\\r', '').replace('\\n', '')\n",
        "\n",
        "    extracted_data.append(result)\n",
        "  print('Finished page ' + str(index + 1))\n",
        "print('Finished all pages')"
      ],
      "execution_count": null,
      "outputs": []
    },
    {
      "cell_type": "code",
      "metadata": {
        "id": "DNt9TIsOwllJ"
      },
      "source": [
        "# Salva o resultado em um arquivo Json.\n",
        "ct = str(datetime.datetime.now())\n",
        "filename = \"datadf_\" + ct\n",
        "with open(filename, 'w') as outfile:\n",
        "    json.dump(extracted_data, outfile, ensure_ascii=False)"
      ],
      "execution_count": null,
      "outputs": []
    },
    {
      "cell_type": "code",
      "metadata": {
        "id": "r1JJ_0JNkB_J"
      },
      "source": [
        "# Transforma o dicionário com os dados extraídos em um DataFrame\n",
        "df = pd.json_normalize(extracted_data)\n",
        "#para formatar link no df\n",
        "HTML(df.to_html(escape=False))"
      ],
      "execution_count": null,
      "outputs": []
    }
  ]
}