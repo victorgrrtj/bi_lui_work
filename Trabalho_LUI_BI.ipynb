{
  "nbformat": 4,
  "nbformat_minor": 0,
  "metadata": {
    "colab": {
      "name": "Trabalho LUI-BI.ipynb",
      "provenance": [],
      "collapsed_sections": [
        "czNC1xSDreNB",
        "rQU3oTeEtZxC",
        "gP_xDZRluVHY",
        "ulf9bVJRvSLr",
        "FST9fSWNyIA6"
      ],
      "authorship_tag": "ABX9TyMpTwz3e4m6ZNExonV2bWFZ",
      "include_colab_link": true
    },
    "kernelspec": {
      "display_name": "Python 3",
      "name": "python3"
    },
    "language_info": {
      "name": "python"
    }
  },
  "cells": [
    {
      "cell_type": "markdown",
      "metadata": {
        "id": "view-in-github",
        "colab_type": "text"
      },
      "source": [
        "<a href=\"https://colab.research.google.com/github/victorgrrtj/bi_lui_work/blob/main/Trabalho_LUI_BI.ipynb\" target=\"_parent\"><img src=\"https://colab.research.google.com/assets/colab-badge.svg\" alt=\"Open In Colab\"/></a>"
      ]
    },
    {
      "cell_type": "markdown",
      "metadata": {
        "id": "5T9_JTLXrKYN"
      },
      "source": [
        "# Trabalho BI e LUI"
      ]
    },
    {
      "cell_type": "markdown",
      "metadata": {
        "id": "55fqYjJjrasB"
      },
      "source": [
        "## Instalação e Importação de Bibliotecas"
      ]
    },
    {
      "cell_type": "code",
      "metadata": {
        "id": "ViYUJnkhrFMd"
      },
      "source": [
        "# Instalação do pacote Wordcloud\n",
        "!pip install wordcloud -q"
      ],
      "execution_count": null,
      "outputs": []
    },
    {
      "cell_type": "code",
      "metadata": {
        "id": "9aWsgUxLRRwk"
      },
      "source": [
        "# Importação das bibliotecas\n",
        "import requests\n",
        "from bs4 import BeautifulSoup\n",
        "import json\n",
        "import pandas as pd\n",
        "import re\n",
        "from IPython.display import HTML\n",
        "import math\n",
        "import time\n",
        "import random\n",
        "from wordcloud import WordCloud, STOPWORDS, ImageColorGenerator\n",
        "import matplotlib.pyplot as plt\n",
        "headers = {\"User-Agent\": \"Mozilla/5.0 (Macintosh; Intel Mac OS X 10.14; rv:66.0) Gecko/20100101 Firefox/66.0\", \"Accept\": \"text/html,application/xhtml+xml,application/xml;q=0.9,*/*;q=0.8\", \"Accept-Language\": \"en-US,en;q=0.5\", \"Accept-Encoding\": \"gzip, deflate\", \"DNT\": \"1\", \"Connection\": \"close\", \"Upgrade-Insecure-Requests\": \"1\"}"
      ],
      "execution_count": null,
      "outputs": []
    },
    {
      "cell_type": "markdown",
      "metadata": {
        "id": "czNC1xSDreNB"
      },
      "source": [
        "## Detecção e Extração de Dados"
      ]
    },
    {
      "cell_type": "code",
      "metadata": {
        "id": "kmf5XTNVRZyL"
      },
      "source": [
        "#Criação de Request para extração do código HTML\n",
        "response = requests.get('https://www.dfimoveis.com.br/aluguel/df/todos/imoveis')\n",
        "soup = BeautifulSoup(response.text, 'html.parser')"
      ],
      "execution_count": null,
      "outputs": []
    },
    {
      "cell_type": "code",
      "metadata": {
        "id": "GnCzZlDR7E7i"
      },
      "source": [
        "#Extração de Quantidade de Imóveis em todas as páginas\n",
        "qtd_imoveis = soup.find('h1')\n",
        "qtd_imoveis = int(qtd_imoveis.text.strip().split(' ')[0].replace('.', ''))"
      ],
      "execution_count": null,
      "outputs": []
    },
    {
      "cell_type": "code",
      "metadata": {
        "id": "u6UthuWwR1kB"
      },
      "source": [
        "#Painel de Informações a serem extraídas\n",
        "painel = soup.find('div', attrs={'class': 'result-search__content'})"
      ],
      "execution_count": null,
      "outputs": []
    },
    {
      "cell_type": "code",
      "metadata": {
        "id": "g4gn1zmCR5Ye"
      },
      "source": [
        "#Extração do item que contém os dados de cada imóvel a serem inseridos no dataframe\n",
        "imoveis = painel.find_all('li', attrs={'class': 'property-list__item'})"
      ],
      "execution_count": null,
      "outputs": []
    },
    {
      "cell_type": "code",
      "metadata": {
        "id": "psOtGVSs8buB"
      },
      "source": [
        "# Imprime a quantidade de imóveis em 1 página\n",
        "print(len(imoveis))"
      ],
      "execution_count": null,
      "outputs": []
    },
    {
      "cell_type": "code",
      "metadata": {
        "id": "dlW6TszW8tHJ"
      },
      "source": [
        "# Quantidade de páginas para todos imóveis cadastrados\n",
        "n_pag = qtd_imoveis / len(imoveis)\n",
        "n_pag = int(math.ceil(n_pag))\n",
        "print(\"São necessárias {} páginas para conter {} imóveis.\".format(n_pag, qtd_imoveis))"
      ],
      "execution_count": null,
      "outputs": []
    },
    {
      "cell_type": "code",
      "metadata": {
        "id": "YFiVYIo7aY6y"
      },
      "source": [
        "# Lista de URL's a serem submetidas ao Web Scrapping\n",
        "url_list = []\n",
        "for i in range(1, n_pag + 1):\n",
        "    url_list.append('https://www.dfimoveis.com.br/aluguel/df/todos/imoveis?pagina='+str(i))\n",
        "print(url_list)"
      ],
      "execution_count": null,
      "outputs": []
    },
    {
      "cell_type": "code",
      "metadata": {
        "id": "oxRkw10CSqiG"
      },
      "source": [
        "#Extrai link da página do imóvel\n",
        "extracted_data = []\n",
        "for imovel in imoveis:\n",
        "  result = {}\n",
        "  hyperlink_format = '<a href=\"{link}\">{text}</a>'\n",
        "  link = \"https://www.dfimoveis.com.br\"+imovel.find('a', attrs={'class': 'gtm-imovel texto-uma-linha'}).get('href')\n",
        "  link = hyperlink_format.format(link = link, text=\"LINK\")\n",
        "  result['link'] = link\n",
        "  extracted_data.append(result)"
      ],
      "execution_count": null,
      "outputs": []
    },
    {
      "cell_type": "code",
      "metadata": {
        "id": "My5FmplCKJU-"
      },
      "source": [
        "#Extrai título do imóvel\n",
        "extracted_data = []\n",
        "for imovel in imoveis:\n",
        "  result = {}\n",
        "  result['titulo'] = imovel.find('a', attrs={'class': 'gtm-imovel texto-uma-linha'}).text.strip()\n",
        "  extracted_data.append(result)"
      ],
      "execution_count": null,
      "outputs": []
    },
    {
      "cell_type": "code",
      "metadata": {
        "id": "oQ4ZHF1vKJcn"
      },
      "source": [
        "#Extrai preço mensal de aluguel ou total de venda\n",
        "extracted_data = []\n",
        "for imovel in imoveis:\n",
        "  result = {}\n",
        "  precos = imovel.find('h4', attrs={'class': 'property__subtitle hide-mobile'})\n",
        "  result['preco_mensal'] = int(re.findall('[0-9]+', precos.find_all('span', attrs={'class': 'price'})[0].text.replace('.', ''))[0])\n",
        "  extracted_data.append(result)"
      ],
      "execution_count": null,
      "outputs": []
    },
    {
      "cell_type": "code",
      "metadata": {
        "id": "lpAyIAZcQBqC"
      },
      "source": [
        "#Extrai preço por m2\n",
        "extracted_data = []\n",
        "for imovel in imoveis:\n",
        "  result = {}\n",
        "  precos = imovel.find('h4', attrs={'class': 'property__subtitle hide-mobile'})\n",
        "  try:\n",
        "    result['preco_m2'] = int(re.findall('[0-9]+', precos.find_all('span', attrs={'class': 'price'})[1].text.replace('.', ''))[0])\n",
        "  except IndexError as error:\n",
        "    result['preco_m2'] = None\n",
        "  extracted_data.append(result)"
      ],
      "execution_count": null,
      "outputs": []
    },
    {
      "cell_type": "code",
      "metadata": {
        "id": "akG36H6ge-7a"
      },
      "source": [
        "#Extrai objetivo (aluguel, venda, etc), tipo de imovel (casa, apto, sala), quantos m2 e tipo/qtde de cômodos\n",
        "extracted_data = []\n",
        "for imovel in imoveis:\n",
        "  result = {}\n",
        "  caracts = imovel.find_all('ul', attrs={'class': 'property__options'})\n",
        "  caracts = caracts[1].find_all('li')\n",
        "  caract_1 = caracts[0].text.split(' ')\n",
        "  result['obj'] = caract_1[0]\n",
        "  result['tipo'] = caract_1[1]\n",
        "  result['m2'] = int(re.findall('[0-9]+', caracts[0].text)[0])\n",
        "  if len(caracts) > 1:\n",
        "    for caract in caracts[1:]:\n",
        "      split = caract.text.split(' ')\n",
        "      qtd = int(split[0])\n",
        "      comodo = split[1].lower()\n",
        "      if comodo in ['quarto', 'suíte', 'vaga']:\n",
        "        comodo = comodo+'s'\n",
        "      result[comodo] = qtd\n",
        "  extracted_data.append(result)"
      ],
      "execution_count": null,
      "outputs": []
    },
    {
      "cell_type": "code",
      "metadata": {
        "id": "1j3oexaSSHpz"
      },
      "source": [
        "# Extrai conteúdo (descrição do imóvel)\n",
        "extracted_data = []\n",
        "for imovel in imoveis:\n",
        "  result = {}\n",
        "  result['descricao'] = imovel.find('meta', attrs={'itemprop': 'description'}).get('content').replace('\\r', '').replace('\\n', '')\n",
        "  extracted_data.append(result)"
      ],
      "execution_count": null,
      "outputs": []
    },
    {
      "cell_type": "markdown",
      "metadata": {
        "id": "rQU3oTeEtZxC"
      },
      "source": [
        "## Sumarização de todas as extrações."
      ]
    },
    {
      "cell_type": "code",
      "metadata": {
        "id": "v8PdWveGW6XS"
      },
      "source": [
        "\"\"\" Contém looping para todas as páginas.\n",
        "Retorna um dicionário com as informações de cada imóvel.\n",
        "Devido à quantidade de páginas, este processo pode demorar mais de 30 minutos.\"\"\"\n",
        "\n",
        "extracted_data = []\n",
        "response = requests.get('https://www.dfimoveis.com.br/aluguel/df/todos/imoveis')\n",
        "soup = BeautifulSoup(response.text, 'html.parser')\n",
        "qtd_imoveis = soup.find('h1', attrs={'itemprop': 'name'})\n",
        "qtd_imoveis = int(qtd_imoveis.text.strip().split(' ')[0].replace('.', ''))\n",
        "painel = soup.find('div', attrs={'class': 'result-search__content'})\n",
        "imoveis = painel.find_all('li', attrs={'class': 'property-list__item'})\n",
        "\n",
        "n_pag = math.ceil(qtd_imoveis / len(imoveis))\n",
        "print(\"São necessárias {} páginas para conter {} imóveis.\".format(n_pag, qtd_imoveis))\n",
        "\n",
        "url_list = []\n",
        "for i in range(1, n_pag + 1):\n",
        "  url_list.append('https://www.dfimoveis.com.br/aluguel/df/todos/imoveis?pagina='+str(i))\n",
        "\n",
        "for index, url in enumerate(url_list):\n",
        "  response = requests.get(url, headers=headers)\n",
        "  print(\"Codigo de resposta da pagina: \", response.status_code)\n",
        "  soup = BeautifulSoup(response.text, 'html.parser')\n",
        "  painel = soup.find('div', attrs={'class': 'result-search__content'})\n",
        "  imoveis = painel.find_all('li', attrs={'class': 'property-list__item'})\n",
        "  time.sleep(random.randint(2,6))\n",
        "\n",
        "  for imovel in imoveis:\n",
        "    result = {}\n",
        "\n",
        "    hyperlink_format = '<a href=\"{link}\">{text}</a>'\n",
        "    link = \"https://www.dfimoveis.com.br\"+imovel.find('a', attrs={'class': 'gtm-imovel texto-uma-linha'}).get('href')\n",
        "    link = hyperlink_format.format(link = link, text=\"LINK\")\n",
        "    try:\n",
        "      result['link'] = link\n",
        "    except:\n",
        "      result['link'] = None\n",
        "\n",
        "    try:\n",
        "      result['titulo'] = imovel.find('a', attrs={'class': 'gtm-imovel texto-uma-linha'}).text.strip()\n",
        "    except:\n",
        "      result['titulo'] = None\n",
        "\n",
        "    precos = imovel.find('h4', attrs={'class': 'property__subtitle hide-mobile'})\n",
        "    try:\n",
        "      result['preco_mensal'] = int(re.findall('[0-9]+', precos.find_all('span', attrs={'class': 'price'})[0].text.replace('.', ''))[0])\n",
        "    except:\n",
        "      result['preco_mensal'] = None\n",
        "\n",
        "    try:\n",
        "      result['preco_m2'] = int(re.findall('[0-9]+', precos.find_all('span', attrs={'class': 'price'})[1].text.replace('.', ''))[0])\n",
        "    except IndexError as error:\n",
        "      result['preco_m2'] = None\n",
        "\n",
        "    caracts = imovel.find_all('ul', attrs={'class': 'property__options'})\n",
        "    caracts = caracts[1].find_all('li')\n",
        "    caract_1 = caracts[0].text.split(' ')\n",
        "    try:\n",
        "      result['obj'] = caract_1[0]\n",
        "    except:\n",
        "      result['obj'] = None\n",
        "    try:\n",
        "      result['tipo'] = caract_1[1]\n",
        "    except:\n",
        "      result['tipo'] = None\n",
        "    try:\n",
        "      result['m2'] = int(re.findall('[0-9]+', caracts[0].text)[0])\n",
        "    except IndexError as error:\n",
        "      result['m2'] = None\n",
        "    if len(caracts) > 1:\n",
        "      for caract in caracts[1:]:\n",
        "        split = caract.text.split(' ')\n",
        "        qtd = int(split[0])\n",
        "        comodo = split[1].lower()\n",
        "        if comodo in ['quarto', 'suíte', 'vaga']:\n",
        "          comodo = comodo+'s'\n",
        "        result[comodo] = qtd\n",
        "    result['descricao'] = imovel.find('meta', attrs={'itemprop': 'description'}).get('content').replace('\\r', '').replace('\\n', '')\n",
        "\n",
        "    extracted_data.append(result)\n",
        "  print('Finished page ' + str(index + 1))\n",
        "print('Finished all pages')"
      ],
      "execution_count": null,
      "outputs": []
    },
    {
      "cell_type": "code",
      "metadata": {
        "id": "DNt9TIsOwllJ"
      },
      "source": [
        "# Salva o resultado em um arquivo Json.\n",
        "with open('data.json', 'w') as outfile:\n",
        "    json.dump(extracted_data, outfile, ensure_ascii=False)"
      ],
      "execution_count": null,
      "outputs": []
    },
    {
      "cell_type": "code",
      "metadata": {
        "id": "r1JJ_0JNkB_J"
      },
      "source": [
        "# Transforma o dicionário com os dados extraídos em um DataFrame\n",
        "df = pd.json_normalize(extracted_data)\n",
        "#para formatar link no df\n",
        "HTML(df.to_html(escape=False))"
      ],
      "execution_count": null,
      "outputs": []
    },
    {
      "cell_type": "markdown",
      "metadata": {
        "id": "gP_xDZRluVHY"
      },
      "source": [
        "## Wordcloud das descrições dos imóveis."
      ]
    },
    {
      "cell_type": "code",
      "metadata": {
        "id": "Ve6iFVshBoUS"
      },
      "source": [
        "# Criação de Dataframe contendo apenas as descrições.\n",
        "summary = df.dropna(subset=['summary'], axis=0)['summary']"
      ],
      "execution_count": null,
      "outputs": []
    },
    {
      "cell_type": "code",
      "metadata": {
        "id": "G6CQxo88CBnp"
      },
      "source": [
        "# Exemplos de descrições dos imóveis.\n",
        "display(summary.iloc[100])\n",
        "display(summary.iloc[120])\n",
        "display(summary.iloc[133])"
      ],
      "execution_count": null,
      "outputs": []
    },
    {
      "cell_type": "code",
      "metadata": {
        "id": "H179tSwtWWFO"
      },
      "source": [
        "# Concatenar as descrições.\n",
        "all_summary = \" \".join(s for s in summary)\n",
        "\n",
        "# Quantidade de palavras\n",
        "print(\"Quantidade de Palavras: {}\".format(len(all_summary)))"
      ],
      "execution_count": null,
      "outputs": []
    },
    {
      "cell_type": "code",
      "metadata": {
        "id": "aorLE3VSWcTV"
      },
      "source": [
        "# Lista de stopword\n",
        "stopwords = set(STOPWORDS)\n",
        "stopwords.update([\"da\", \"meu\", \"em\", \"você\", \"de\", \"ao\", \"os\", \"sua\"])\n",
        "\n",
        "# gerar uma wordcloud\n",
        "wordcloud = WordCloud(stopwords=stopwords,\n",
        "                      background_color=\"black\",\n",
        "                      width=1600, height=800).generate(all_summary)\n",
        "\n",
        "# mostrar a imagem final\n",
        "fig, ax = plt.subplots(figsize=(20,12))\n",
        "ax.imshow(wordcloud, interpolation='bilinear')\n",
        "ax.set_axis_off()\n",
        "\n",
        "plt.imshow(wordcloud);\n",
        "wordcloud.to_file(\"df_descricoes.png\")"
      ],
      "execution_count": null,
      "outputs": []
    },
    {
      "cell_type": "markdown",
      "metadata": {
        "id": "ulf9bVJRvSLr"
      },
      "source": [
        "## Wordcloud dos títulos dos imóveis."
      ]
    },
    {
      "cell_type": "code",
      "metadata": {
        "id": "egeeC_j1vDRo"
      },
      "source": [
        "# Criação de Dataframe contendo apenas os títulos.\n",
        "titles = df.dropna(subset=['titulo'], axis=0)['titulo']"
      ],
      "execution_count": null,
      "outputs": []
    },
    {
      "cell_type": "code",
      "metadata": {
        "id": "Q6VVSXWPvDRp"
      },
      "source": [
        "# Exemplos de títulos de imóveis.\n",
        "display(titles.iloc[100])\n",
        "display(titles.iloc[120])\n",
        "display(titles.iloc[133])"
      ],
      "execution_count": null,
      "outputs": []
    },
    {
      "cell_type": "code",
      "metadata": {
        "id": "udP5WNvrvDRp"
      },
      "source": [
        "# Concatenar os títulos..\n",
        "all_titles = \" \".join(s for s in titles)\n",
        "\n",
        "# Quantidade de palavras\n",
        "print(\"Quantidade de Palavras: {}\".format(len(all_titles)))"
      ],
      "execution_count": null,
      "outputs": []
    },
    {
      "cell_type": "code",
      "metadata": {
        "id": "XnNwhUNWvDRp"
      },
      "source": [
        "# Lista de stopword\n",
        "stopwords = set(STOPWORDS)\n",
        "stopwords.update([\"da\", \"meu\", \"em\", \"você\", \"de\", \"ao\", \"os\", \"sua\", \"bloco\", \"rua\", \"quadra\"])\n",
        "\n",
        "# gerar uma wordcloud\n",
        "wordcloud = WordCloud(stopwords=stopwords,\n",
        "                      background_color=\"black\",\n",
        "                      width=1600, height=800).generate(all_titles)\n",
        "\n",
        "# mostrar a imagem final\n",
        "fig, ax = plt.subplots(figsize=(20,12))\n",
        "ax.imshow(wordcloud, interpolation='bilinear')\n",
        "ax.set_axis_off()\n",
        "\n",
        "plt.imshow(wordcloud);\n",
        "wordcloud.to_file(\"df_titulos.png\")"
      ],
      "execution_count": null,
      "outputs": []
    },
    {
      "cell_type": "markdown",
      "metadata": {
        "id": "FST9fSWNyIA6"
      },
      "source": [
        "## Wordcloud dos tipos dos imóveis."
      ]
    },
    {
      "cell_type": "code",
      "metadata": {
        "id": "mXZ_Up6vyHEf"
      },
      "source": [
        "# Criação de Dataframe contendo apenas os tipos.\n",
        "types = df.dropna(subset=['tipo'], axis=0)['tipo']"
      ],
      "execution_count": null,
      "outputs": []
    },
    {
      "cell_type": "code",
      "metadata": {
        "id": "kSXFfp0byHEt"
      },
      "source": [
        "# Exemplos de tipos de imóveis.\n",
        "display(types.iloc[100])\n",
        "display(types.iloc[120])\n",
        "display(types.iloc[133])"
      ],
      "execution_count": null,
      "outputs": []
    },
    {
      "cell_type": "code",
      "metadata": {
        "id": "RlxmvtwryHEt"
      },
      "source": [
        "# Concatenar os tipos.\n",
        "all_types = \" \".join(s for s in types)\n",
        "\n",
        "# Quantidade de palavras\n",
        "print(\"Quantidade de Palavras: {}\".format(len(all_types)))"
      ],
      "execution_count": null,
      "outputs": []
    },
    {
      "cell_type": "code",
      "metadata": {
        "id": "_yE6TLD-yHEt"
      },
      "source": [
        "# Lista de stopword\n",
        "stopwords = set(STOPWORDS)\n",
        "stopwords.update([\"da\", \"meu\", \"em\", \"você\", \"de\", \"ao\", \"os\", \"sua\", \"bloco\", \"rua\", \"quadra\"])\n",
        "\n",
        "# gerar uma wordcloud\n",
        "wordcloud = WordCloud(stopwords=stopwords,\n",
        "                      background_color=\"black\",\n",
        "                      width=1600, height=800).generate(all_types)\n",
        "\n",
        "# mostrar a imagem final\n",
        "fig, ax = plt.subplots(figsize=(12,8))\n",
        "ax.imshow(wordcloud, interpolation='bilinear')\n",
        "ax.set_axis_off()\n",
        "\n",
        "plt.imshow(wordcloud);\n",
        "wordcloud.to_file(\"df_tipos.png\")"
      ],
      "execution_count": null,
      "outputs": []
    },
    {
      "cell_type": "code",
      "metadata": {
        "id": "340JonHvyn0Y"
      },
      "source": [
        ""
      ],
      "execution_count": null,
      "outputs": []
    }
  ]
}